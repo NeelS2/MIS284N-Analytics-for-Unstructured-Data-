{
 "cells": [
  {
   "cell_type": "markdown",
   "id": "ce2deb10",
   "metadata": {
    "id": "ce2deb10"
   },
   "source": [
    "# Analytics for Unstructured Data HW1"
   ]
  },
  {
   "cell_type": "markdown",
   "id": "bef3a18f",
   "metadata": {
    "id": "bef3a18f"
   },
   "source": [
    "# Authors: Neel Sheth, Amanda Nguyen, Ryan Lee, Rianna Patel, Troy Austin, Aarib Mohammed"
   ]
  },
  {
   "cell_type": "markdown",
   "id": "c6224d52",
   "metadata": {
    "id": "c6224d52"
   },
   "source": [
    "Forum Chosen: https://forums.edmunds.com/discussion/2864/general/x/entry-level-luxury-performance-sedans"
   ]
  },
  {
   "cell_type": "code",
   "execution_count": null,
   "id": "b290bc57",
   "metadata": {
    "id": "b290bc57"
   },
   "outputs": [],
   "source": [
    "# All packages needed\n",
    "import numpy as np\n",
    "import pandas as pd\n",
    "import matplotlib.pyplot as plt \n",
    "%matplotlib inline\n",
    "import collections\n",
    "import csv\n",
    "import string\n",
    "import re\n",
    "import copy\n",
    "from string import punctuation\n",
    "from math import sqrt\n",
    "from collections import Counter\n",
    "from sklearn.manifold import MDS\n",
    "import nltk\n",
    "from nltk.corpus import stopwords\n",
    "from nltk import word_tokenize\n",
    "from nltk import FreqDist\n",
    "from nltk.tokenize import sent_tokenize, word_tokenize\n",
    "import warnings\n",
    "warnings.filterwarnings('ignore')"
   ]
  },
  {
   "cell_type": "markdown",
   "id": "f966cf19",
   "metadata": {
    "id": "f966cf19"
   },
   "source": [
    "### 1. Write a scraper to fetch messages posted in Edmunds.com discussion forums.\n",
    "### 2. Fetch around 5000 posts about cars from the Entry Level Luxury forum"
   ]
  },
  {
   "cell_type": "code",
   "execution_count": null,
   "id": "414f740b",
   "metadata": {
    "id": "414f740b"
   },
   "outputs": [],
   "source": [
    "!pip install selenium\n",
    "!apt-get -q update   #Used to handle installation and removal of softwares and libraries\n",
    "!apt install -yq chromium-chromedriver #ChromeDriver is a separate executable that Selenium WebDriver uses to control Chrome.\n",
    "!cp /usr/lib/chromium-browser/chromedriver /usr/bin\n",
    "\n",
    "import sys\n",
    "sys.path.insert(0,'/Users/hp/opt/anaconda3/binchromedriver')\n",
    "from selenium import webdriver\n",
    "from selenium.webdriver.common.by import By\n",
    "#WebDriver is a browser automation framework that works with open source APIs. \n",
    "#The framework operates by accepting commands, sending those commands to a browser, and interacting with applications.\n",
    "chrome_options = webdriver.ChromeOptions()\n",
    "#headless means running chrome with chrome.exe\n",
    "chrome_options.add_argument('--headless')\n",
    "\n",
    "chrome_options.add_argument('--no-sandbox')\n",
    "chrome_options.add_argument('--disable-dev-shm-usage')"
   ]
  },
  {
   "cell_type": "code",
   "execution_count": null,
   "id": "afdc7ed1",
   "metadata": {
    "id": "afdc7ed1"
   },
   "outputs": [],
   "source": [
    "driver = webdriver.Chrome('chromedriver',options=chrome_options)\n",
    "url ='https://forums.edmunds.com/discussion/2864/general/x/entry-level-luxury-performance-sedans'\n",
    "driver.get(url+ '/p2')\n",
    "pageelement= driver.find_elements(by=By.XPATH,value='/html/body/div[1]/div[1]/div[2]/div/div/div/div/div[3]/main/div[4]/span/span//a')\n",
    "urlnext =url\n",
    "author = []\n",
    "date = []\n",
    "comment = []\n",
    "comments = pd.DataFrame() \n",
    "for i in range(330,436):\n",
    "    urlnext = url + '/p'+str(i)\n",
    "    driver.get(urlnext)\n",
    "    elements = driver.find_elements(By.CLASS_NAME, \"Comment\")\n",
    "    for element in elements:\n",
    "        author.append(element.find_element(By.CLASS_NAME, \"Author\").text)\n",
    "        date.append(element.find_element(By.TAG_NAME, \"time\").text)\n",
    "        comment.append(element.find_element(By.CLASS_NAME, \"Item-Body\").text)\n",
    "comments['Author'] = author\n",
    "comments['Date'] = date\n",
    "comments['Comment'] = comment\n",
    "comments.to_csv(\"final_data.csv\", sep=\"\\t\")\n",
    "!ls\n",
    "files.download(\"final_data.csv\")"
   ]
  },
  {
   "cell_type": "markdown",
   "id": "ca5b5266",
   "metadata": {
    "id": "ca5b5266"
   },
   "source": [
    "### Task A: Once you fetch the data, test if the data support Zipf’s law econometrically. Also plot the most common 100 words in the data against the theoretical prediction of the law. For this question, do not remove stopwords. Also do not perform stemming or lemmatization."
   ]
  },
  {
   "cell_type": "code",
   "execution_count": null,
   "id": "f4b5380b",
   "metadata": {
    "id": "f4b5380b"
   },
   "outputs": [],
   "source": [
    "data = pd.read_csv(\"final_data.csv\")\n",
    "copied = copy.deepcopy(data)\n",
    "\n",
    "def remove_space(s):\n",
    "    return str(s).replace(\"\\n\",\" \")\n",
    "\n",
    "def removepunc(item):\n",
    "    for p in punctuation:\n",
    "        item = str(item).lstrip().replace(p,'')\n",
    "    return item\n",
    "\n",
    "def lowerize(x):\n",
    "    return str(x).lower()\n",
    "\n",
    "copied['Comments_clean'] = copied['Comment'].apply(remove_space).apply(removepunc).apply(lowerize)\n"
   ]
  },
  {
   "cell_type": "code",
   "execution_count": null,
   "id": "70847816",
   "metadata": {
    "id": "70847816"
   },
   "outputs": [],
   "source": [
    "freqs = copied['Comments_clean'].str.split(expand=True).stack().value_counts()\n",
    "df = freqs.reset_index()\n",
    "df['rank'] = range(1, len(df) + 1)\n",
    "df.columns = ['Word', 'Count', 'Rank']\n",
    "\n",
    "top100 = df[:100]\n",
    "top100['Ideal'] = 32111 / top100['Rank']"
   ]
  },
  {
   "cell_type": "markdown",
   "id": "408a47db",
   "metadata": {
    "id": "408a47db"
   },
   "source": [
    "#### Does the data support Zipf's Law econometrically?"
   ]
  },
  {
   "cell_type": "code",
   "execution_count": null,
   "id": "82a8f547",
   "metadata": {
    "id": "82a8f547",
    "outputId": "06d741f7-5c73-44ed-bfdb-e6697f1dc1d6",
    "scrolled": true
   },
   "outputs": [
    {
     "data": {
      "text/plain": [
       "Text(0.5, 1.0, \"Zipf's Law\")"
      ]
     },
     "execution_count": 95,
     "metadata": {},
     "output_type": "execute_result"
    },
    {
     "data": {
      "image/png": "[encoded data removed]",
      "text/plain": [
       "<Figure size 432x288 with 1 Axes>"
      ]
     },
     "metadata": {
      "needs_background": "light"
     },
     "output_type": "display_data"
    }
   ],
   "source": [
    "plt.plot(top100['Rank'], top100['Count'])\n",
    "plt.xlabel('Rank')\n",
    "plt.ylabel('Count (Frequency)')\n",
    "plt.title(\"Zipf's Law\")"
   ]
  },
  {
   "cell_type": "markdown",
   "id": "d5745b1a",
   "metadata": {
    "id": "d5745b1a"
   },
   "source": [
    "The data does support Zipf's Law econometrically, as the product of the frequency of words and their rank is approximately constant (up to a certain rank). This creates an \"elbow\" shape in the resulting graph, thus proving Zipf's law is supported by our data."
   ]
  },
  {
   "cell_type": "markdown",
   "id": "c29ea6e3",
   "metadata": {
    "id": "c29ea6e3"
   },
   "source": [
    "#### Most common 100 words vs. Theoretical Prediction of Zipf's Law"
   ]
  },
  {
   "cell_type": "code",
   "execution_count": null,
   "id": "7cc0d032",
   "metadata": {
    "id": "7cc0d032",
    "outputId": "617236a7-47a8-428d-fcc8-0eb6cd7a1fd9"
   },
   "outputs": [
    {
     "data": {
      "image/png": "[encoded data removed]",
      "text/plain": [
       "<Figure size 432x288 with 1 Axes>"
      ]
     },
     "metadata": {
      "needs_background": "light"
     },
     "output_type": "display_data"
    }
   ],
   "source": [
    "plt.plot(np.log(top100['Rank']), np.log(top100['Count']), label = \"Top 100 Words\")\n",
    "plt.plot(np.log(top100['Rank']), np.log(top100['Ideal']), label = \"Ideal Case\")\n",
    "plt.legend()\n",
    "plt.xlabel('Log of Rank')\n",
    "plt.ylabel('Log of Count (Frequency)')\n",
    "plt.title(\"Most common 100 words vs. Theoretical Prediction of Zipf's Law\")\n",
    "plt.show()"
   ]
  },
  {
   "cell_type": "markdown",
   "id": "f961aa92",
   "metadata": {
    "id": "f961aa92"
   },
   "source": [
    "### Task B: Find the top 10 brands from frequency counts. You will need to write a script to count the frequencies of words (stopwords should NOT be counted). Replace frequently occurring car models with brands so that from now on you have to deal with only brands and not models. You will need another script for this job. A list of model and brand names (not exhaustive) are provided in a separate file."
   ]
  },
  {
   "cell_type": "code",
   "execution_count": null,
   "id": "a5bedc0a",
   "metadata": {
    "colab": {
     "base_uri": "https://localhost:8080/",
     "height": 392
    },
    "id": "a5bedc0a",
    "outputId": "c1e8bd94-c320-4025-c96d-12c671e1df4c"
   },
   "outputs": [
    {
     "name": "stderr",
     "output_type": "stream",
     "text": [
      "C:\\Users\\pokem\\AppData\\Local\\Temp\\ipykernel_12572\\1168371656.py:21: FutureWarning: The default value of regex will change from True to False in a future version.\n",
      "  text['Comment'] = text['Comment'].str.replace('[^\\w\\s]','')\n",
      "C:\\Users\\pokem\\AppData\\Local\\Temp\\ipykernel_12572\\1168371656.py:19: FutureWarning: The default value of regex will change from True to False in a future version.\n",
      "  text['Comment'] = text['Comment'].str.replace(row['Model'], row['Brand'])\n"
     ]
    }
   ],
   "source": [
    "brand_model = pd.read_csv('car models and brands.csv')\n",
    "\n",
    "text = pd.read_csv('final_data.csv')\n",
    "text = text.apply(lambda x: x.astype(str).str.lower())\n",
    "\n",
    "stopwords =['i', 'me', 'my', 'myself', 'we', 'our', 'ours', 'ourselves', 'you', \"you're\", \"you've\",\\\n",
    "            \"you'll\", \"you'd\", 'your', 'yours', 'yourself', 'yourselves', 'he', 'him', 'his', 'himself',\\\n",
    "            'she', \"she's\", 'her', 'hers', 'herself', 'it', \"it's\", 'its', 'itself', 'they', 'them', 'their', 'theirs',\\\n",
    "            'themselves', 'what', 'which', 'who', 'whom', 'this', 'that', \"that'll\", 'these', 'those', 'am', 'is', 'are',\\\n",
    "            'was', 'were', 'be', 'been', 'being', 'have', 'has', 'had', 'having', 'do', 'does', 'did', 'doing', 'a', 'an',\\\n",
    "            'the', 'and', 'but', 'if', 'or', 'because', 'as', 'until', 'while', 'of', 'at', 'by', 'for', 'with', 'about',\\\n",
    "            'against', 'between', 'into', 'through', 'during', 'before', 'after', 'above', 'below', 'to', 'from', 'up', 'down',\\\n",
    "            'in', 'out', 'on', 'off', 'over', 'under', 'again', 'further', 'then', 'once', 'here', 'there', 'when', 'where', 'why',\\\n",
    "            'how', 'all', 'any', 'both', 'each', 'few', 'more', 'most', 'other', 'some', 'such', 'no', 'nor', 'not', 'only', 'own', 'same',\\\n",
    "            'so', 'than', 'too', 'very', 's', 't', 'can', 'will', 'just', 'don', \"don't\", 'should', \"should've\", 'now', 'd', 'll', 'm', 'o', 're',\\\n",
    "            've', 'y', 'ain', 'ma']\n",
    "\n",
    "for index, row in brand_model.iterrows():\n",
    "    text['Comment'] = text['Comment'].str.replace(row['Model'], row['Brand'])\n",
    "    text['Comment'] = text['Comment'].apply(lambda x: ' '.join([word for word in x.split() if word not in (stopwords)]))\n",
    "    text['Comment'] = text['Comment'].str.replace('[^\\w\\s]','')\n"
   ]
  },
  {
   "cell_type": "code",
   "execution_count": null,
   "id": "b475db25",
   "metadata": {
    "id": "b475db25",
    "scrolled": true
   },
   "outputs": [],
   "source": [
    "def count_brand(comment, brand): \n",
    "    count = 0\n",
    "    for i in range(len(comment)):\n",
    "        if brand in comment.iloc[i]:\n",
    "            count += 1\n",
    "    return(count)\n",
    "\n",
    "brand_model['Brand Count'] = brand_model['Brand'].apply(lambda x: count_brand(text['Comment'], x))\n",
    "brand_model = brand_model.drop_duplicates(subset=['Brand'])\n",
    "brand_model = brand_model.drop('Model', axis=1)"
   ]
  },
  {
   "cell_type": "markdown",
   "id": "9842dc5d",
   "metadata": {
    "id": "9842dc5d"
   },
   "source": [
    "#### Top 10 Brands"
   ]
  },
  {
   "cell_type": "code",
   "execution_count": null,
   "id": "f5b0b89b",
   "metadata": {
    "id": "f5b0b89b",
    "outputId": "f6ae219a-6f95-41d0-e1ed-bfc50a5c181d",
    "scrolled": true
   },
   "outputs": [
    {
     "data": {
      "text/html": [
       "<div>\n",
       "<style scoped>\n",
       "    .dataframe tbody tr th:only-of-type {\n",
       "        vertical-align: middle;\n",
       "    }\n",
       "\n",
       "    .dataframe tbody tr th {\n",
       "        vertical-align: top;\n",
       "    }\n",
       "\n",
       "    .dataframe thead th {\n",
       "        text-align: right;\n",
       "    }\n",
       "</style>\n",
       "<table border=\"1\" class=\"dataframe\">\n",
       "  <thead>\n",
       "    <tr style=\"text-align: right;\">\n",
       "      <th></th>\n",
       "      <th>Brand</th>\n",
       "      <th>Brand Count</th>\n",
       "    </tr>\n",
       "  </thead>\n",
       "  <tbody>\n",
       "    <tr>\n",
       "      <th>410</th>\n",
       "      <td>toyota</td>\n",
       "      <td>3051</td>\n",
       "    </tr>\n",
       "    <tr>\n",
       "      <th>161</th>\n",
       "      <td>honda</td>\n",
       "      <td>1745</td>\n",
       "    </tr>\n",
       "    <tr>\n",
       "      <th>19</th>\n",
       "      <td>bmw</td>\n",
       "      <td>1722</td>\n",
       "    </tr>\n",
       "    <tr>\n",
       "      <th>9</th>\n",
       "      <td>audi</td>\n",
       "      <td>1439</td>\n",
       "    </tr>\n",
       "    <tr>\n",
       "      <th>0</th>\n",
       "      <td>acura</td>\n",
       "      <td>1381</td>\n",
       "    </tr>\n",
       "    <tr>\n",
       "      <th>137</th>\n",
       "      <td>ford</td>\n",
       "      <td>785</td>\n",
       "    </tr>\n",
       "    <tr>\n",
       "      <th>116</th>\n",
       "      <td>chrysler</td>\n",
       "      <td>767</td>\n",
       "    </tr>\n",
       "    <tr>\n",
       "      <th>508</th>\n",
       "      <td>volkswagen</td>\n",
       "      <td>654</td>\n",
       "    </tr>\n",
       "    <tr>\n",
       "      <th>359</th>\n",
       "      <td>subaru</td>\n",
       "      <td>642</td>\n",
       "    </tr>\n",
       "    <tr>\n",
       "      <th>319</th>\n",
       "      <td>nissan</td>\n",
       "      <td>507</td>\n",
       "    </tr>\n",
       "  </tbody>\n",
       "</table>\n",
       "</div>"
      ],
      "text/plain": [
       "          Brand  Brand Count\n",
       "410      toyota         3051\n",
       "161       honda         1745\n",
       "19          bmw         1722\n",
       "9          audi         1439\n",
       "0         acura         1381\n",
       "137        ford          785\n",
       "116    chrysler          767\n",
       "508  volkswagen          654\n",
       "359      subaru          642\n",
       "319      nissan          507"
      ]
     },
     "execution_count": 4,
     "metadata": {},
     "output_type": "execute_result"
    }
   ],
   "source": [
    "brand_model.sort_values('Brand Count', ascending = False)[:11].drop(axis=0, labels=[52])"
   ]
  },
  {
   "cell_type": "markdown",
   "id": "d8a60d5f",
   "metadata": {
    "id": "d8a60d5f"
   },
   "source": [
    "### Task C: Calculate lift ratios for associations between the top-10 brands identified in Task A. You will have to write a script to do this task). For lift calculations, be sure not to count a mention more than once per post, even if it is mentioned multiple times in the post."
   ]
  },
  {
   "cell_type": "code",
   "execution_count": null,
   "id": "1143ed13",
   "metadata": {
    "colab": {
     "base_uri": "https://localhost:8080/",
     "height": 242
    },
    "id": "1143ed13",
    "outputId": "3536c66e-49cb-4e3c-fe27-628b81f02928"
   },
   "outputs": [
    {
     "data": {
      "text/html": [
       "<div>\n",
       "<style scoped>\n",
       "    .dataframe tbody tr th:only-of-type {\n",
       "        vertical-align: middle;\n",
       "    }\n",
       "\n",
       "    .dataframe tbody tr th {\n",
       "        vertical-align: top;\n",
       "    }\n",
       "\n",
       "    .dataframe thead th {\n",
       "        text-align: right;\n",
       "    }\n",
       "</style>\n",
       "<table border=\"1\" class=\"dataframe\">\n",
       "  <thead>\n",
       "    <tr style=\"text-align: right;\">\n",
       "      <th></th>\n",
       "      <th>toyota</th>\n",
       "      <th>honda</th>\n",
       "      <th>bmw</th>\n",
       "      <th>audi</th>\n",
       "      <th>acura</th>\n",
       "      <th>ford</th>\n",
       "      <th>chrysler</th>\n",
       "      <th>volkswagen</th>\n",
       "      <th>subaru</th>\n",
       "      <th>nissan</th>\n",
       "    </tr>\n",
       "    <tr>\n",
       "      <th>Index</th>\n",
       "      <th></th>\n",
       "      <th></th>\n",
       "      <th></th>\n",
       "      <th></th>\n",
       "      <th></th>\n",
       "      <th></th>\n",
       "      <th></th>\n",
       "      <th></th>\n",
       "      <th></th>\n",
       "      <th></th>\n",
       "    </tr>\n",
       "  </thead>\n",
       "  <tbody>\n",
       "    <tr>\n",
       "      <th>toyota</th>\n",
       "      <td>NaN</td>\n",
       "      <td>3.47954</td>\n",
       "      <td>1.724278</td>\n",
       "      <td>1.893238</td>\n",
       "      <td>1.625122</td>\n",
       "      <td>1.096141</td>\n",
       "      <td>3.944009</td>\n",
       "      <td>0.0</td>\n",
       "      <td>1.507337</td>\n",
       "      <td>1.179066</td>\n",
       "    </tr>\n",
       "    <tr>\n",
       "      <th>honda</th>\n",
       "      <td>3.47954</td>\n",
       "      <td>NaN</td>\n",
       "      <td>1.126102</td>\n",
       "      <td>1.231824</td>\n",
       "      <td>2.495766</td>\n",
       "      <td>0.416032</td>\n",
       "      <td>0.623716</td>\n",
       "      <td>3.555182</td>\n",
       "      <td>0.272428</td>\n",
       "      <td>0.298337</td>\n",
       "    </tr>\n",
       "    <tr>\n",
       "      <th>bmw</th>\n",
       "      <td>1.724278</td>\n",
       "      <td>1.126102</td>\n",
       "      <td>NaN</td>\n",
       "      <td>1.669602</td>\n",
       "      <td>0.925379</td>\n",
       "      <td>0.473788</td>\n",
       "      <td>1.03751</td>\n",
       "      <td>0.547575</td>\n",
       "      <td>0.805627</td>\n",
       "      <td>0.673938</td>\n",
       "    </tr>\n",
       "    <tr>\n",
       "      <th>audi</th>\n",
       "      <td>1.893238</td>\n",
       "      <td>1.231824</td>\n",
       "      <td>1.669602</td>\n",
       "      <td>NaN</td>\n",
       "      <td>1.343667</td>\n",
       "      <td>0.360617</td>\n",
       "      <td>1.338078</td>\n",
       "      <td>3.813523</td>\n",
       "      <td>0.720819</td>\n",
       "      <td>1.244506</td>\n",
       "    </tr>\n",
       "    <tr>\n",
       "      <th>acura</th>\n",
       "      <td>1.625122</td>\n",
       "      <td>2.495766</td>\n",
       "      <td>0.925379</td>\n",
       "      <td>1.343667</td>\n",
       "      <td>NaN</td>\n",
       "      <td>3.265291</td>\n",
       "      <td>0.595561</td>\n",
       "      <td>1.591265</td>\n",
       "      <td>1.593297</td>\n",
       "      <td>0.875381</td>\n",
       "    </tr>\n",
       "    <tr>\n",
       "      <th>ford</th>\n",
       "      <td>1.096141</td>\n",
       "      <td>0.416032</td>\n",
       "      <td>0.473788</td>\n",
       "      <td>0.360617</td>\n",
       "      <td>3.265291</td>\n",
       "      <td>NaN</td>\n",
       "      <td>5.669513</td>\n",
       "      <td>1.170878</td>\n",
       "      <td>0.323001</td>\n",
       "      <td>0.196511</td>\n",
       "    </tr>\n",
       "    <tr>\n",
       "      <th>chrysler</th>\n",
       "      <td>3.944009</td>\n",
       "      <td>0.623716</td>\n",
       "      <td>1.03751</td>\n",
       "      <td>1.338078</td>\n",
       "      <td>0.595561</td>\n",
       "      <td>5.669513</td>\n",
       "      <td>NaN</td>\n",
       "      <td>5.792763</td>\n",
       "      <td>0.532668</td>\n",
       "      <td>0.486106</td>\n",
       "    </tr>\n",
       "    <tr>\n",
       "      <th>volkswagen</th>\n",
       "      <td>0.0</td>\n",
       "      <td>3.555182</td>\n",
       "      <td>0.547575</td>\n",
       "      <td>3.813523</td>\n",
       "      <td>1.591265</td>\n",
       "      <td>1.170878</td>\n",
       "      <td>5.792763</td>\n",
       "      <td>NaN</td>\n",
       "      <td>0.0</td>\n",
       "      <td>0.0</td>\n",
       "    </tr>\n",
       "    <tr>\n",
       "      <th>subaru</th>\n",
       "      <td>1.507337</td>\n",
       "      <td>0.272428</td>\n",
       "      <td>0.805627</td>\n",
       "      <td>0.720819</td>\n",
       "      <td>1.593297</td>\n",
       "      <td>0.323001</td>\n",
       "      <td>0.532668</td>\n",
       "      <td>0.0</td>\n",
       "      <td>NaN</td>\n",
       "      <td>0.141548</td>\n",
       "    </tr>\n",
       "    <tr>\n",
       "      <th>nissan</th>\n",
       "      <td>1.179066</td>\n",
       "      <td>0.298337</td>\n",
       "      <td>0.673938</td>\n",
       "      <td>1.244506</td>\n",
       "      <td>0.875381</td>\n",
       "      <td>0.196511</td>\n",
       "      <td>0.486106</td>\n",
       "      <td>0.0</td>\n",
       "      <td>0.141548</td>\n",
       "      <td>NaN</td>\n",
       "    </tr>\n",
       "  </tbody>\n",
       "</table>\n",
       "</div>"
      ],
      "text/plain": [
       "              toyota     honda       bmw      audi     acura      ford  \\\n",
       "Index                                                                    \n",
       "toyota           NaN   3.47954  1.724278  1.893238  1.625122  1.096141   \n",
       "honda        3.47954       NaN  1.126102  1.231824  2.495766  0.416032   \n",
       "bmw         1.724278  1.126102       NaN  1.669602  0.925379  0.473788   \n",
       "audi        1.893238  1.231824  1.669602       NaN  1.343667  0.360617   \n",
       "acura       1.625122  2.495766  0.925379  1.343667       NaN  3.265291   \n",
       "ford        1.096141  0.416032  0.473788  0.360617  3.265291       NaN   \n",
       "chrysler    3.944009  0.623716   1.03751  1.338078  0.595561  5.669513   \n",
       "volkswagen       0.0  3.555182  0.547575  3.813523  1.591265  1.170878   \n",
       "subaru      1.507337  0.272428  0.805627  0.720819  1.593297  0.323001   \n",
       "nissan      1.179066  0.298337  0.673938  1.244506  0.875381  0.196511   \n",
       "\n",
       "            chrysler volkswagen    subaru    nissan  \n",
       "Index                                                \n",
       "toyota      3.944009        0.0  1.507337  1.179066  \n",
       "honda       0.623716   3.555182  0.272428  0.298337  \n",
       "bmw          1.03751   0.547575  0.805627  0.673938  \n",
       "audi        1.338078   3.813523  0.720819  1.244506  \n",
       "acura       0.595561   1.591265  1.593297  0.875381  \n",
       "ford        5.669513   1.170878  0.323001  0.196511  \n",
       "chrysler         NaN   5.792763  0.532668  0.486106  \n",
       "volkswagen  5.792763        NaN       0.0       0.0  \n",
       "subaru      0.532668        0.0       NaN  0.141548  \n",
       "nissan      0.486106        0.0  0.141548       NaN  "
      ]
     },
     "execution_count": 100,
     "metadata": {},
     "output_type": "execute_result"
    }
   ],
   "source": [
    "text = pd.read_csv('final_data.csv')\n",
    "text = text.apply(lambda x: x.astype(str).str.lower())\n",
    "\n",
    "top_10_brands_counts = brand_model.sort_values('Brand Count', ascending = False)[:11].drop(axis=0, labels=[52])\n",
    "top_10_brands = top_10_brands_counts['Brand'].values.tolist()\n",
    "\n",
    "lift=pd.DataFrame(columns=top_10_brands)\n",
    "lift['Index']=top_10_brands\n",
    "lift=lift.set_index('Index')\n",
    "\n",
    "stoplist=stopwords.words('english')\n",
    "def check(X):\n",
    "    if X in stoplist:\n",
    "        return False\n",
    "    else:\n",
    "        return True\n",
    "    \n",
    "df2 = text.copy()\n",
    "df2['Comment'] = df2['Comment'].str.replace(\"'\", \" \")\n",
    "df2['Comment'] = df2['Comment'].str.strip()\n",
    "df2['Stopword']=df2['Comment'].map(check) \n",
    "df2=df2[df2['Stopword']==True] \n",
    "\n",
    "df3=text.copy()\n",
    "removed = r'\\b(?:{})\\b'.format('|'.join(stoplist)) \n",
    "df3['Comment']=df3['Comment'].str.replace(removed,'')\n",
    "df3['Comment'] = df3['Comment'].astype(str)\n",
    "df3['Comment'] = df3['Comment'].str.replace('[^\\w\\s]','')\n",
    "df3['Final'] = df3['Comment'].apply(word_tokenize)\n",
    "\n",
    "modelsandbrands = pd.read_csv('car models and brands.csv')\n",
    "modelsandbrands = modelsandbrands.set_index(\"Model\")\n",
    "\n",
    "def replacemodel(X): #function to replace model name with brand name\n",
    "  list_of_words=[]\n",
    "  for i in X:\n",
    "    if i in modelsandbrands.index.values:\n",
    "      list_of_words.append(str(modelsandbrands.loc[i,'Brand']))\n",
    "    else:\n",
    "      list_of_words.append(i)\n",
    "  return list_of_words\n",
    "\n",
    "size_lift=int(sqrt(lift.size))\n",
    "\n",
    "N=len(text)\n",
    "i=0\n",
    "j=0\n",
    "for i in range(0,size_lift_matrix):\n",
    "    for j in range(0,size_lift_matrix):\n",
    "        A=0\n",
    "        B=0\n",
    "        C=0\n",
    "        if i==j:\n",
    "            continue\n",
    "        else:\n",
    "            for k in range(0,len(df_2)):\n",
    "                if top_10_brands[i] in df3['Final'][k]:\n",
    "                    A+=1\n",
    "                if top_10_brands[j] in df3['Final'][k]:\n",
    "                    B+=1\n",
    "                if (top_10_brands[j] in df3['Final'][k]) and (top_10_brands[i] in df3['Final'][k]):\n",
    "                    C+=1       \n",
    "        lift.iat[i,j]=(N*C)/(A*B) "
   ]
  },
  {
   "cell_type": "markdown",
   "id": "237842d1",
   "metadata": {
    "id": "237842d1"
   },
   "source": [
    "#### Lift ratios for associations between the top-10 brands"
   ]
  },
  {
   "cell_type": "code",
   "execution_count": null,
   "id": "f5941f49",
   "metadata": {
    "id": "f5941f49",
    "outputId": "508bca41-49e5-495b-fce8-e460ce8f0f6e"
   },
   "outputs": [
    {
     "data": {
      "text/html": [
       "<div>\n",
       "<style scoped>\n",
       "    .dataframe tbody tr th:only-of-type {\n",
       "        vertical-align: middle;\n",
       "    }\n",
       "\n",
       "    .dataframe tbody tr th {\n",
       "        vertical-align: top;\n",
       "    }\n",
       "\n",
       "    .dataframe thead th {\n",
       "        text-align: right;\n",
       "    }\n",
       "</style>\n",
       "<table border=\"1\" class=\"dataframe\">\n",
       "  <thead>\n",
       "    <tr style=\"text-align: right;\">\n",
       "      <th></th>\n",
       "      <th>toyota</th>\n",
       "      <th>honda</th>\n",
       "      <th>bmw</th>\n",
       "      <th>audi</th>\n",
       "      <th>acura</th>\n",
       "      <th>ford</th>\n",
       "      <th>chrysler</th>\n",
       "      <th>volkswagen</th>\n",
       "      <th>subaru</th>\n",
       "      <th>nissan</th>\n",
       "    </tr>\n",
       "    <tr>\n",
       "      <th>Index</th>\n",
       "      <th></th>\n",
       "      <th></th>\n",
       "      <th></th>\n",
       "      <th></th>\n",
       "      <th></th>\n",
       "      <th></th>\n",
       "      <th></th>\n",
       "      <th></th>\n",
       "      <th></th>\n",
       "      <th></th>\n",
       "    </tr>\n",
       "  </thead>\n",
       "  <tbody>\n",
       "    <tr>\n",
       "      <th>toyota</th>\n",
       "      <td>NaN</td>\n",
       "      <td>3.47954</td>\n",
       "      <td>1.724278</td>\n",
       "      <td>1.893238</td>\n",
       "      <td>1.625122</td>\n",
       "      <td>1.096141</td>\n",
       "      <td>3.944009</td>\n",
       "      <td>0.0</td>\n",
       "      <td>1.507337</td>\n",
       "      <td>1.179066</td>\n",
       "    </tr>\n",
       "    <tr>\n",
       "      <th>honda</th>\n",
       "      <td>3.47954</td>\n",
       "      <td>NaN</td>\n",
       "      <td>1.126102</td>\n",
       "      <td>1.231824</td>\n",
       "      <td>2.495766</td>\n",
       "      <td>0.416032</td>\n",
       "      <td>0.623716</td>\n",
       "      <td>3.555182</td>\n",
       "      <td>0.272428</td>\n",
       "      <td>0.298337</td>\n",
       "    </tr>\n",
       "    <tr>\n",
       "      <th>bmw</th>\n",
       "      <td>1.724278</td>\n",
       "      <td>1.126102</td>\n",
       "      <td>NaN</td>\n",
       "      <td>1.669602</td>\n",
       "      <td>0.925379</td>\n",
       "      <td>0.473788</td>\n",
       "      <td>1.03751</td>\n",
       "      <td>0.547575</td>\n",
       "      <td>0.805627</td>\n",
       "      <td>0.673938</td>\n",
       "    </tr>\n",
       "    <tr>\n",
       "      <th>audi</th>\n",
       "      <td>1.893238</td>\n",
       "      <td>1.231824</td>\n",
       "      <td>1.669602</td>\n",
       "      <td>NaN</td>\n",
       "      <td>1.343667</td>\n",
       "      <td>0.360617</td>\n",
       "      <td>1.338078</td>\n",
       "      <td>3.813523</td>\n",
       "      <td>0.720819</td>\n",
       "      <td>1.244506</td>\n",
       "    </tr>\n",
       "    <tr>\n",
       "      <th>acura</th>\n",
       "      <td>1.625122</td>\n",
       "      <td>2.495766</td>\n",
       "      <td>0.925379</td>\n",
       "      <td>1.343667</td>\n",
       "      <td>NaN</td>\n",
       "      <td>3.265291</td>\n",
       "      <td>0.595561</td>\n",
       "      <td>1.591265</td>\n",
       "      <td>1.593297</td>\n",
       "      <td>0.875381</td>\n",
       "    </tr>\n",
       "    <tr>\n",
       "      <th>ford</th>\n",
       "      <td>1.096141</td>\n",
       "      <td>0.416032</td>\n",
       "      <td>0.473788</td>\n",
       "      <td>0.360617</td>\n",
       "      <td>3.265291</td>\n",
       "      <td>NaN</td>\n",
       "      <td>5.669513</td>\n",
       "      <td>1.170878</td>\n",
       "      <td>0.323001</td>\n",
       "      <td>0.196511</td>\n",
       "    </tr>\n",
       "    <tr>\n",
       "      <th>chrysler</th>\n",
       "      <td>3.944009</td>\n",
       "      <td>0.623716</td>\n",
       "      <td>1.03751</td>\n",
       "      <td>1.338078</td>\n",
       "      <td>0.595561</td>\n",
       "      <td>5.669513</td>\n",
       "      <td>NaN</td>\n",
       "      <td>5.792763</td>\n",
       "      <td>0.532668</td>\n",
       "      <td>0.486106</td>\n",
       "    </tr>\n",
       "    <tr>\n",
       "      <th>volkswagen</th>\n",
       "      <td>0.0</td>\n",
       "      <td>3.555182</td>\n",
       "      <td>0.547575</td>\n",
       "      <td>3.813523</td>\n",
       "      <td>1.591265</td>\n",
       "      <td>1.170878</td>\n",
       "      <td>5.792763</td>\n",
       "      <td>NaN</td>\n",
       "      <td>0.0</td>\n",
       "      <td>0.0</td>\n",
       "    </tr>\n",
       "    <tr>\n",
       "      <th>subaru</th>\n",
       "      <td>1.507337</td>\n",
       "      <td>0.272428</td>\n",
       "      <td>0.805627</td>\n",
       "      <td>0.720819</td>\n",
       "      <td>1.593297</td>\n",
       "      <td>0.323001</td>\n",
       "      <td>0.532668</td>\n",
       "      <td>0.0</td>\n",
       "      <td>NaN</td>\n",
       "      <td>0.141548</td>\n",
       "    </tr>\n",
       "    <tr>\n",
       "      <th>nissan</th>\n",
       "      <td>1.179066</td>\n",
       "      <td>0.298337</td>\n",
       "      <td>0.673938</td>\n",
       "      <td>1.244506</td>\n",
       "      <td>0.875381</td>\n",
       "      <td>0.196511</td>\n",
       "      <td>0.486106</td>\n",
       "      <td>0.0</td>\n",
       "      <td>0.141548</td>\n",
       "      <td>NaN</td>\n",
       "    </tr>\n",
       "  </tbody>\n",
       "</table>\n",
       "</div>"
      ],
      "text/plain": [
       "              toyota     honda       bmw      audi     acura      ford  \\\n",
       "Index                                                                    \n",
       "toyota           NaN   3.47954  1.724278  1.893238  1.625122  1.096141   \n",
       "honda        3.47954       NaN  1.126102  1.231824  2.495766  0.416032   \n",
       "bmw         1.724278  1.126102       NaN  1.669602  0.925379  0.473788   \n",
       "audi        1.893238  1.231824  1.669602       NaN  1.343667  0.360617   \n",
       "acura       1.625122  2.495766  0.925379  1.343667       NaN  3.265291   \n",
       "ford        1.096141  0.416032  0.473788  0.360617  3.265291       NaN   \n",
       "chrysler    3.944009  0.623716   1.03751  1.338078  0.595561  5.669513   \n",
       "volkswagen       0.0  3.555182  0.547575  3.813523  1.591265  1.170878   \n",
       "subaru      1.507337  0.272428  0.805627  0.720819  1.593297  0.323001   \n",
       "nissan      1.179066  0.298337  0.673938  1.244506  0.875381  0.196511   \n",
       "\n",
       "            chrysler volkswagen    subaru    nissan  \n",
       "Index                                                \n",
       "toyota      3.944009        0.0  1.507337  1.179066  \n",
       "honda       0.623716   3.555182  0.272428  0.298337  \n",
       "bmw          1.03751   0.547575  0.805627  0.673938  \n",
       "audi        1.338078   3.813523  0.720819  1.244506  \n",
       "acura       0.595561   1.591265  1.593297  0.875381  \n",
       "ford        5.669513   1.170878  0.323001  0.196511  \n",
       "chrysler         NaN   5.792763  0.532668  0.486106  \n",
       "volkswagen  5.792763        NaN       0.0       0.0  \n",
       "subaru      0.532668        0.0       NaN  0.141548  \n",
       "nissan      0.486106        0.0  0.141548       NaN  "
      ]
     },
     "execution_count": 102,
     "metadata": {},
     "output_type": "execute_result"
    }
   ],
   "source": [
    "lift"
   ]
  },
  {
   "cell_type": "markdown",
   "id": "96d8f1ee",
   "metadata": {
    "id": "96d8f1ee"
   },
   "source": [
    "### Task D: Show the brands on a multi-dimensional scaling (MDS) map (use a Python script for MDS, there are multiple scripts available on GitHub)."
   ]
  },
  {
   "cell_type": "code",
   "execution_count": null,
   "id": "0807ac85",
   "metadata": {
    "id": "0807ac85",
    "outputId": "74819ec6-1d2a-4e64-e0dd-a054d5b8074b",
    "scrolled": true
   },
   "outputs": [
    {
     "data": {
      "image/png": "[encoded data removed]",
      "text/plain": [
       "<Figure size 720x288 with 1 Axes>"
      ]
     },
     "metadata": {
      "needs_background": "light"
     },
     "output_type": "display_data"
    }
   ],
   "source": [
    "lift.replace(to_replace = 0, value = np.nan, inplace=True)\n",
    "dist = 1/lift_matrix\n",
    "dist = dist.fillna(0)\n",
    "\n",
    "mds = MDS(dissimilarity='precomputed', random_state=0)\n",
    "X_transform = mds.fit_transform(dist)\n",
    "\n",
    "colors = ['red', 'green', 'blue', 'cyan', 'magenta', 'yellow', 'pink', 'dimgrey', 'orange', 'lightsteelblue']\n",
    "size = [64, 64, 64, 64, 64, 64, 64, 64, 64, 64]\n",
    "brands = top_10_brands\n",
    "mds_df = pd.DataFrame(X_transform, columns= ['xaxis', 'yaxis'])\n",
    "mds_df['brands'] = top_10_brands\n",
    "fig = plt.figure(2, (10,4))\n",
    "ax = fig.add_subplot(122)\n",
    "plt.scatter(mds_df['xaxis'], mds_df['yaxis'], s=size, c=colors)\n",
    "\n",
    "for i in range(mds_df.shape[0]):\n",
    "  plt.text(x=mds_df.xaxis[i]+0.025, y=mds_df.yaxis[i]+0.025, s=mds_df.brands[i],\n",
    "           fontdict=dict(color='black', size=10))"
   ]
  },
  {
   "cell_type": "markdown",
   "id": "c607e6a3",
   "metadata": {
    "id": "c607e6a3"
   },
   "source": [
    "### Task E: What insights can you offer to your client from your analyses in Tasks C and D"
   ]
  },
  {
   "cell_type": "markdown",
   "id": "3606972b",
   "metadata": {
    "id": "3606972b"
   },
   "source": [
    "From the MDS map, we can see that the majority of car brands are clustered toward the center of the map. We can assume that these brands could be split horizontally with the bottom half representing luxury brands such as Audi, Acura, and BMW. The top half of this cluster would represent the mainstream, reliable car brands like Toyota, Volkswagen, Honda, Ford, and a possible outlier of Chrysler. Chrysler was formerly a mainstream brand but has now tried to move itself into the luxury marketplace. This would indicate that consumers would still consider Chrysler a non luxury brands despite the company trying to change the perception of the brand. "
   ]
  },
  {
   "cell_type": "markdown",
   "id": "0df971c8",
   "metadata": {
    "id": "0df971c8"
   },
   "source": [
    "### Task F: What are 5 most frequently mentioned attributes or features of cars in the discussions? Which attributes are most strongly associated with which of these 5 brands? You DON’T have to do a sentiment analysis for this assignment."
   ]
  },
  {
   "cell_type": "code",
   "execution_count": null,
   "id": "965a6d8d",
   "metadata": {
    "id": "965a6d8d"
   },
   "outputs": [],
   "source": [
    "attributes = ['performance','luxury','maintenance', 'reliability', 'durability']\n",
    "df_attributes=pd.DataFrame(columns=attributes)\n",
    "df_attributes['Index']=top_10_brands\n",
    "df_attributes=df_attributes.set_index('Index')\n",
    "\n",
    "size_attributes_rows=int(len(list_of_brands)) \n",
    "size_attributes_columns=int(len(attributes)) \n",
    "\n",
    "i=0\n",
    "j=0\n",
    "for i in range(0,size_attributes_rows):\n",
    "    for j in range(0,size_attributes_columns):\n",
    "        A=0\n",
    "        B=0\n",
    "        C=0\n",
    "        for k in range(0,len(df3)):\n",
    "            if list_of_brands[i] in df3['Final'][k]:\n",
    "                A+=1\n",
    "            if attributes[j] in df3['Final'][k]:\n",
    "                B+=1\n",
    "            if (list_of_brands[i] in df3['Final'][k]) and (attributes[j] in df3['Final'][k]):\n",
    "                C+=1       \n",
    "        df_attributes.iat[i,j]=(N*C)/(A*B) "
   ]
  },
  {
   "cell_type": "markdown",
   "id": "8dd76728",
   "metadata": {
    "id": "8dd76728"
   },
   "source": [
    "#### 5 most frequently mentioned attributes and their lift values for the top 10 most common brands"
   ]
  },
  {
   "cell_type": "code",
   "execution_count": null,
   "id": "babeb094",
   "metadata": {
    "id": "babeb094",
    "outputId": "6443a320-fa87-4c72-9d94-9de718692c07"
   },
   "outputs": [
    {
     "data": {
      "text/html": [
       "<div>\n",
       "<style scoped>\n",
       "    .dataframe tbody tr th:only-of-type {\n",
       "        vertical-align: middle;\n",
       "    }\n",
       "\n",
       "    .dataframe tbody tr th {\n",
       "        vertical-align: top;\n",
       "    }\n",
       "\n",
       "    .dataframe thead th {\n",
       "        text-align: right;\n",
       "    }\n",
       "</style>\n",
       "<table border=\"1\" class=\"dataframe\">\n",
       "  <thead>\n",
       "    <tr style=\"text-align: right;\">\n",
       "      <th></th>\n",
       "      <th>performance</th>\n",
       "      <th>luxury</th>\n",
       "      <th>maintenance</th>\n",
       "      <th>reliability</th>\n",
       "      <th>durability</th>\n",
       "    </tr>\n",
       "    <tr>\n",
       "      <th>Index</th>\n",
       "      <th></th>\n",
       "      <th></th>\n",
       "      <th></th>\n",
       "      <th></th>\n",
       "      <th></th>\n",
       "    </tr>\n",
       "  </thead>\n",
       "  <tbody>\n",
       "    <tr>\n",
       "      <th>toyota</th>\n",
       "      <td>1.12155</td>\n",
       "      <td>1.746394</td>\n",
       "      <td>3.097755</td>\n",
       "      <td>4.970256</td>\n",
       "      <td>2.293964</td>\n",
       "    </tr>\n",
       "    <tr>\n",
       "      <th>honda</th>\n",
       "      <td>1.024775</td>\n",
       "      <td>1.827805</td>\n",
       "      <td>1.791588</td>\n",
       "      <td>1.789683</td>\n",
       "      <td>0.870657</td>\n",
       "    </tr>\n",
       "    <tr>\n",
       "      <th>bmw</th>\n",
       "      <td>1.466674</td>\n",
       "      <td>1.559196</td>\n",
       "      <td>1.586673</td>\n",
       "      <td>1.638999</td>\n",
       "      <td>1.609199</td>\n",
       "    </tr>\n",
       "    <tr>\n",
       "      <th>audi</th>\n",
       "      <td>1.544575</td>\n",
       "      <td>1.852898</td>\n",
       "      <td>1.561442</td>\n",
       "      <td>2.490464</td>\n",
       "      <td>3.00931</td>\n",
       "    </tr>\n",
       "    <tr>\n",
       "      <th>acura</th>\n",
       "      <td>0.940881</td>\n",
       "      <td>1.378497</td>\n",
       "      <td>1.202846</td>\n",
       "      <td>1.241259</td>\n",
       "      <td>1.039194</td>\n",
       "    </tr>\n",
       "    <tr>\n",
       "      <th>ford</th>\n",
       "      <td>0.623083</td>\n",
       "      <td>0.714434</td>\n",
       "      <td>0.737561</td>\n",
       "      <td>0.573491</td>\n",
       "      <td>0.191164</td>\n",
       "    </tr>\n",
       "    <tr>\n",
       "      <th>chrysler</th>\n",
       "      <td>1.027541</td>\n",
       "      <td>1.309099</td>\n",
       "      <td>0.364898</td>\n",
       "      <td>2.522019</td>\n",
       "      <td>2.837272</td>\n",
       "    </tr>\n",
       "    <tr>\n",
       "      <th>volkswagen</th>\n",
       "      <td>0.0</td>\n",
       "      <td>1.865466</td>\n",
       "      <td>5.199803</td>\n",
       "      <td>0.0</td>\n",
       "      <td>13.477041</td>\n",
       "    </tr>\n",
       "    <tr>\n",
       "      <th>subaru</th>\n",
       "      <td>0.80786</td>\n",
       "      <td>1.143581</td>\n",
       "      <td>0.478143</td>\n",
       "      <td>0.826179</td>\n",
       "      <td>1.239268</td>\n",
       "    </tr>\n",
       "    <tr>\n",
       "      <th>nissan</th>\n",
       "      <td>0.696285</td>\n",
       "      <td>0.782713</td>\n",
       "      <td>0.872694</td>\n",
       "      <td>1.13094</td>\n",
       "      <td>0.37698</td>\n",
       "    </tr>\n",
       "  </tbody>\n",
       "</table>\n",
       "</div>"
      ],
      "text/plain": [
       "           performance    luxury maintenance reliability durability\n",
       "Index                                                              \n",
       "toyota         1.12155  1.746394    3.097755    4.970256   2.293964\n",
       "honda         1.024775  1.827805    1.791588    1.789683   0.870657\n",
       "bmw           1.466674  1.559196    1.586673    1.638999   1.609199\n",
       "audi          1.544575  1.852898    1.561442    2.490464    3.00931\n",
       "acura         0.940881  1.378497    1.202846    1.241259   1.039194\n",
       "ford          0.623083  0.714434    0.737561    0.573491   0.191164\n",
       "chrysler      1.027541  1.309099    0.364898    2.522019   2.837272\n",
       "volkswagen         0.0  1.865466    5.199803         0.0  13.477041\n",
       "subaru         0.80786  1.143581    0.478143    0.826179   1.239268\n",
       "nissan        0.696285  0.782713    0.872694     1.13094    0.37698"
      ]
     },
     "execution_count": 139,
     "metadata": {},
     "output_type": "execute_result"
    }
   ],
   "source": [
    "df_attributes"
   ]
  },
  {
   "cell_type": "markdown",
   "id": "9cfc800b",
   "metadata": {
    "id": "9cfc800b"
   },
   "source": [
    "### Task G: What advice will you give to your client from Task F? For this assignment, you can assume that all sentiments are positive."
   ]
  },
  {
   "cell_type": "markdown",
   "id": "42117582",
   "metadata": {
    "id": "f16dab1d"
   },
   "source": [
    "The advice I would give is that potential customers have high desire for performance, luxury, maintenance, reliability, and durability, when looking at the best cars. Some brands, like BMW and Audi, have high lift values for all five of these desires, meaning that customers will probably look towards these brands when looking at luxury cars. Volkswagon has very high lift values for luxury, maintenance, and durability, but a 0 for lift value in the other categories. Ford sticks out because it has lower lift values for all of these categories, meaning that it is viewed less postively in these aspects than the other brands. Overall, our suggestion would be to assume that BMW, Audi, Volkswagon, and to a lesser extent, Acura, Subaru, and Honda, have high associations with the most sought after attributes in luxury cars."
   ]
  },
  {
   "cell_type": "markdown",
   "id": "8655afbe",
   "metadata": {
    "id": "8655afbe"
   },
   "source": [
    "### Task H: Which is the most aspirational brand in your data in terms of people actually wanting to buy or own? Describe your analysis. What are the business implications for this brand?"
   ]
  },
  {
   "cell_type": "code",
   "execution_count": null,
   "id": "b1d751a0",
   "metadata": {
    "id": "b1d751a0"
   },
   "outputs": [],
   "source": [
    "aspiration = ['dream', 'aspire', 'hope', 'want', 'future']\n",
    "\n",
    "def aspiring(s):\n",
    "    for word in s:\n",
    "        if word in aspiration:\n",
    "            word = s.replace(word, 'aspiration')\n",
    "    return s\n",
    "df3['Aspiration'] = df3['Comment'].apply(aspiring)\n",
    "\n",
    "aspiration_df = pd.DataFrame(columns = aspiration)\n",
    "def aspiring_mentioned(x):\n",
    "    if 'aspiration' in x:\n",
    "        return 1\n",
    "    else:\n",
    "        return 0\n",
    "\n",
    "for x in aspiration:\n",
    "    aspiration_df[x] = df3['Aspiration'].apply(aspiring_mentioned)\n",
    "    \n",
    "df_aspiration=pd.DataFrame(columns=aspiration)\n",
    "df_aspiration['Index']=top_10_brands\n",
    "df_aspiration=df_aspiration.set_index('Index')\n",
    "        \n",
    "size_aspiration_rows=int(len(list_of_brands)) \n",
    "size_aspiration_columns=int(len(aspiration)) \n",
    "\n",
    "i=0\n",
    "j=0\n",
    "for i in range(0,size_aspiration_rows):\n",
    "    for j in range(0,size_aspiration_columns):\n",
    "        A=0\n",
    "        B=0\n",
    "        C=0\n",
    "        for k in range(0,len(df3)):\n",
    "            if list_of_brands[i] in df3['Final'][k]:\n",
    "                A+=1\n",
    "            if \"aspiration\" in df3['Final'][k]:\n",
    "                B+=1\n",
    "            if (list_of_brands[i] in df3['Final'][k]) and (\"aspiration\" in df3['Final'][k]):\n",
    "                C+=1       \n",
    "        df_aspiration.iat[i,j]=(N*C)/(A*B)\n",
    "df_aspiration.drop(columns=['future', 'want', 'hope', 'aspire'], inplace=True)\n",
    "df_aspiration.rename(columns={\"dream\":\"aspiration\"}, inplace=True)"
   ]
  },
  {
   "cell_type": "markdown",
   "id": "ade4330d",
   "metadata": {
    "id": "ade4330d"
   },
   "source": [
    "#### Which is the most aspirational brand in your data in terms of people actually wanting to buy or own?"
   ]
  },
  {
   "cell_type": "code",
   "execution_count": null,
   "id": "a5183c6d",
   "metadata": {
    "id": "a5183c6d",
    "outputId": "0558555f-f9a4-495c-c114-cf2c41e3595a",
    "scrolled": true
   },
   "outputs": [
    {
     "data": {
      "text/html": [
       "<div>\n",
       "<style scoped>\n",
       "    .dataframe tbody tr th:only-of-type {\n",
       "        vertical-align: middle;\n",
       "    }\n",
       "\n",
       "    .dataframe tbody tr th {\n",
       "        vertical-align: top;\n",
       "    }\n",
       "\n",
       "    .dataframe thead th {\n",
       "        text-align: right;\n",
       "    }\n",
       "</style>\n",
       "<table border=\"1\" class=\"dataframe\">\n",
       "  <thead>\n",
       "    <tr style=\"text-align: right;\">\n",
       "      <th></th>\n",
       "      <th>aspiration</th>\n",
       "    </tr>\n",
       "    <tr>\n",
       "      <th>Index</th>\n",
       "      <th></th>\n",
       "    </tr>\n",
       "  </thead>\n",
       "  <tbody>\n",
       "    <tr>\n",
       "      <th>toyota</th>\n",
       "      <td>0.0</td>\n",
       "    </tr>\n",
       "    <tr>\n",
       "      <th>honda</th>\n",
       "      <td>7.110363</td>\n",
       "    </tr>\n",
       "    <tr>\n",
       "      <th>bmw</th>\n",
       "      <td>4.380597</td>\n",
       "    </tr>\n",
       "    <tr>\n",
       "      <th>audi</th>\n",
       "      <td>5.084697</td>\n",
       "    </tr>\n",
       "    <tr>\n",
       "      <th>acura</th>\n",
       "      <td>4.243373</td>\n",
       "    </tr>\n",
       "    <tr>\n",
       "      <th>ford</th>\n",
       "      <td>0.0</td>\n",
       "    </tr>\n",
       "    <tr>\n",
       "      <th>chrysler</th>\n",
       "      <td>0.0</td>\n",
       "    </tr>\n",
       "    <tr>\n",
       "      <th>volkswagen</th>\n",
       "      <td>0.0</td>\n",
       "    </tr>\n",
       "    <tr>\n",
       "      <th>subaru</th>\n",
       "      <td>20.241379</td>\n",
       "    </tr>\n",
       "    <tr>\n",
       "      <th>nissan</th>\n",
       "      <td>0.0</td>\n",
       "    </tr>\n",
       "  </tbody>\n",
       "</table>\n",
       "</div>"
      ],
      "text/plain": [
       "           aspiration\n",
       "Index                \n",
       "toyota            0.0\n",
       "honda        7.110363\n",
       "bmw          4.380597\n",
       "audi         5.084697\n",
       "acura        4.243373\n",
       "ford              0.0\n",
       "chrysler          0.0\n",
       "volkswagen        0.0\n",
       "subaru      20.241379\n",
       "nissan            0.0"
      ]
     },
     "execution_count": 156,
     "metadata": {},
     "output_type": "execute_result"
    }
   ],
   "source": [
    "df_aspiration"
   ]
  },
  {
   "cell_type": "markdown",
   "id": "3e8032a4",
   "metadata": {
    "id": "3e8032a4"
   },
   "source": [
    "The most aspirational brand is Subaru, it has the highest aspiration lift value."
   ]
  },
  {
   "cell_type": "markdown",
   "id": "eed2ee76",
   "metadata": {
    "id": "eed2ee76"
   },
   "source": [
    "#### Describe your analysis. What are the business implications for this brand?"
   ]
  },
  {
   "cell_type": "markdown",
   "id": "83c0c6f6",
   "metadata": {
    "id": "83c0c6f6"
   },
   "source": [
    "For the sentiment analysis, we used words such as 'dream', 'aspire', 'hope', 'want', and 'future' to determine which brand would be considered the most aspirational out of the dataset. Subaru has the highest aspirational value which is unexpected because the brand isn't traditionally known as people's dream car. Subara could be perceived as a brand that provides a cheaper and reliable car that also has comes with really great features for the price that you're paying, and this could  explain why the brand is doing much better in this analysis than some would suspect. Subaru could use this data to determine that their brand is becoming much more trusted and desired in the market so they should continue to go forward with their exising brand strategy."
   ]
  }
 ],
 "metadata": {
  "celltoolbar": "Raw Cell Format",
  "colab": {
   "provenance": []
  },
  "kernelspec": {
   "display_name": "Python 3 (ipykernel)",
   "language": "python",
   "name": "python3"
  },
  "language_info": {
   "codemirror_mode": {
    "name": "ipython",
    "version": 3
   },
   "file_extension": ".py",
   "mimetype": "text/x-python",
   "name": "python",
   "nbconvert_exporter": "python",
   "pygments_lexer": "ipython3",
   "version": "3.9.12"
  }
 },
 "nbformat": 4,
 "nbformat_minor": 5
}
